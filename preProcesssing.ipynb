{
 "cells": [
  {
   "cell_type": "markdown",
   "metadata": {},
   "source": [
    "put train-test infront of files accordingly\n",
    "\n",
    "input layer:\n",
    "-MFCC features\n",
    "\n",
    "hidden layer:\n",
    "-neurons only\n",
    "\n",
    "output layer:\n",
    "-how many environments labels\n",
    "\n"
   ]
  },
  {
   "cell_type": "code",
   "execution_count": 17,
   "metadata": {},
   "outputs": [],
   "source": [
    "import os\n",
    "import tkinter as tk\n",
    "from tkinter import filedialog\n"
   ]
  },
  {
   "cell_type": "code",
   "execution_count": 30,
   "metadata": {},
   "outputs": [
    {
     "data": {
      "text/plain": [
       "''"
      ]
     },
     "execution_count": 30,
     "metadata": {},
     "output_type": "execute_result"
    }
   ],
   "source": [
    "# essential for using opening files UI\n",
    "root = tk.Tk()\n",
    "root.attributes('-topmost', True)  # makes it appear on top of other windows\n",
    "root.update()\n",
    "root.withdraw()"
   ]
  },
  {
   "cell_type": "code",
   "execution_count": 19,
   "metadata": {},
   "outputs": [],
   "source": [
    "try:\n",
    "    from pydub import AudioSegment as am\n",
    "except ImportError as e:\n",
    "    import pip\n",
    "    pip.main([\"install\",\"pydub\"])\n",
    "    from pydub import AudioSegment as am"
   ]
  },
  {
   "cell_type": "code",
   "execution_count": 20,
   "metadata": {},
   "outputs": [],
   "source": [
    "rawData = filedialog.askdirectory(parent=root,initialdir=os.path.dirname(__name__))\n",
    "minute = 60*1000\n"
   ]
  },
  {
   "cell_type": "code",
   "execution_count": 28,
   "metadata": {},
   "outputs": [
    {
     "name": "stdout",
     "output_type": "stream",
     "text": [
      "RawData/trainStation_2.ogg\n",
      "RawData/car_1.ogg\n",
      "RawData/publicRoad_1.ogg\n",
      "RawData/airport_3.ogg\n",
      "RawData/car_2.ogg\n",
      "RawData/car_3.ogg\n",
      "RawData/airPort_2.ogg\n",
      "RawData/trainStation_1.ogg\n",
      "RawData/airPort_1.ogg\n",
      "RawData/trainStation_3.ogg\n"
     ]
    }
   ],
   "source": [
    "rawFiles = []\n",
    "for root,_,files in os.walk(rawData):\n",
    "    for f in files:\n",
    "        if \"_\" in f:\n",
    "            print(os.path.join(root,f))\n",
    "            rawFiles.append(os.path.join(root,f))"
   ]
  },
  {
   "cell_type": "code",
   "execution_count": 9,
   "metadata": {},
   "outputs": [
    {
     "data": {
      "text/plain": [
       "<_io.BufferedRandom name='S:/Projects/Python/GraduationProject/RawData\\\\car_2.ogg'>"
      ]
     },
     "execution_count": 9,
     "metadata": {},
     "output_type": "execute_result"
    }
   ],
   "source": [
    "# split car.ogg file into two 15 minute chunks and change format to *.wav file\n",
    "carFile = filedialog.askopenfilename(parent=root,initialdir=os.path.dirname(__name__))\n",
    "\n",
    "sound = am.from_file(carFile)\n",
    "\n",
    "# splitting...\n",
    "sound[-30*minute:-15*minute].export(os.path.join(rawData,\"car_1.ogg\"),format=\"ogg\")\n",
    "sound[-15*minute:].export(os.path.join(rawData,\"car_2.ogg\"),format=\"ogg\")\n"
   ]
  },
  {
   "cell_type": "code",
   "execution_count": 26,
   "metadata": {},
   "outputs": [],
   "source": [
    "trainStation_1 = filedialog.askopenfilename(parent=root,initialdir=os.path.dirname(__name__))\n",
    "trainStation_2 = filedialog.askopenfilename(parent=root,initialdir=os.path.dirname(__name__))\n",
    "\n",
    "\n",
    "sound_1 = am.from_file(trainStation_1)\n",
    "sound_2 = am.from_file(trainStation_2)\n",
    "\n",
    "full_sound = sound_1+sound_2\n",
    "full_sound.export(os.path.join(rawData,\"trainStation_1.ogg\"),format=\"ogg\")\n",
    "os.remove(trainStation_1)\n",
    "os.remove(trainStation_2)"
   ]
  },
  {
   "cell_type": "code",
   "execution_count": 31,
   "metadata": {},
   "outputs": [
    {
     "name": "stdout",
     "output_type": "stream",
     "text": [
      "/home/extacy/Desktop/GraduationProject/GraduationProject/wavFiles/trainStation_2.ogg\n",
      "/home/extacy/Desktop/GraduationProject/GraduationProject/wavFiles/car_1.ogg\n",
      "/home/extacy/Desktop/GraduationProject/GraduationProject/wavFiles/publicRoad_1.ogg\n",
      "/home/extacy/Desktop/GraduationProject/GraduationProject/wavFiles/airport_3.ogg\n",
      "/home/extacy/Desktop/GraduationProject/GraduationProject/wavFiles/car_2.ogg\n",
      "/home/extacy/Desktop/GraduationProject/GraduationProject/wavFiles/car_3.ogg\n",
      "/home/extacy/Desktop/GraduationProject/GraduationProject/wavFiles/airPort_2.ogg\n",
      "/home/extacy/Desktop/GraduationProject/GraduationProject/wavFiles/trainStation_1.ogg\n",
      "/home/extacy/Desktop/GraduationProject/GraduationProject/wavFiles/airPort_1.ogg\n",
      "/home/extacy/Desktop/GraduationProject/GraduationProject/wavFiles/trainStation_3.ogg\n"
     ]
    }
   ],
   "source": [
    "# sounds files can be sliced using milliseconds\n",
    "wavFolder = filedialog.askdirectory(parent=root,initialdir=os.path.dirname(__name__))\n",
    "_15min = 15*60*1000\n",
    "for i in rawFiles:\n",
    "    # taking the last 15 minutes from each file\n",
    "    sound = am.from_file(i)\n",
    "    sound = sound.set_frame_rate(16000)\n",
    "    print(os.path.join(wavFolder,os.path.split(i)[-1]))\n",
    "    sound[-_15min:].export(os.path.join(wavFolder,os.path.split(i)[-1]).replace(\".ogg\",\".wav\"),format=\"wav\")\n"
   ]
  },
  {
   "cell_type": "code",
   "execution_count": 38,
   "metadata": {},
   "outputs": [
    {
     "name": "stdout",
     "output_type": "stream",
     "text": [
      "/home/extacy/Desktop/GraduationProject/GraduationProject/wavFiles/publicRoad_1.wav\n",
      "/home/extacy/Desktop/GraduationProject/GraduationProject/wavFiles/trainStation_3.wav\n",
      "/home/extacy/Desktop/GraduationProject/GraduationProject/wavFiles/car_1.wav\n",
      "/home/extacy/Desktop/GraduationProject/GraduationProject/wavFiles/airport_3.wav\n",
      "/home/extacy/Desktop/GraduationProject/GraduationProject/wavFiles/car_3.wav\n",
      "/home/extacy/Desktop/GraduationProject/GraduationProject/wavFiles/trainStation_1.wav\n",
      "/home/extacy/Desktop/GraduationProject/GraduationProject/wavFiles/airPort_1.wav\n",
      "/home/extacy/Desktop/GraduationProject/GraduationProject/wavFiles/airPort_2.wav\n",
      "/home/extacy/Desktop/GraduationProject/GraduationProject/wavFiles/trainStation_2.wav\n",
      "/home/extacy/Desktop/GraduationProject/GraduationProject/wavFiles/car_2.wav\n"
     ]
    }
   ],
   "source": [
    "wavFiles = []\n",
    "for root,_,files in os.walk(wavFolder):\n",
    "    for f in files:\n",
    "        if \"_\" in f:\n",
    "            print(os.path.join(root,f))\n",
    "            wavFiles.append(os.path.join(root,f))"
   ]
  },
  {
   "cell_type": "code",
   "execution_count": 41,
   "metadata": {},
   "outputs": [
    {
     "name": "stdout",
     "output_type": "stream",
     "text": [
      "/home/extacy/Desktop/GraduationProject/GraduationProject/wavFiles/publicRoad_1.wav : 900000\n",
      "/home/extacy/Desktop/GraduationProject/GraduationProject/wavFiles/trainStation_3.wav : 900000\n",
      "/home/extacy/Desktop/GraduationProject/GraduationProject/wavFiles/car_1.wav : 900000\n",
      "/home/extacy/Desktop/GraduationProject/GraduationProject/wavFiles/airport_3.wav : 900000\n",
      "/home/extacy/Desktop/GraduationProject/GraduationProject/wavFiles/car_3.wav : 900000\n",
      "/home/extacy/Desktop/GraduationProject/GraduationProject/wavFiles/trainStation_1.wav : 900000\n",
      "/home/extacy/Desktop/GraduationProject/GraduationProject/wavFiles/airPort_1.wav : 900000\n",
      "/home/extacy/Desktop/GraduationProject/GraduationProject/wavFiles/airPort_2.wav : 900000\n",
      "/home/extacy/Desktop/GraduationProject/GraduationProject/wavFiles/trainStation_2.wav : 900000\n",
      "/home/extacy/Desktop/GraduationProject/GraduationProject/wavFiles/car_2.wav : 900000\n"
     ]
    }
   ],
   "source": [
    "# for i in wavFolder:\n",
    "#     print(i)\n",
    "#     sound = am.from_file(i)\n",
    "#     print(i,\":\",len(sound))\n",
    "for i in wavFiles:\n",
    "    sound = am.from_file(i)\n",
    "    print(i,\":\",len(sound))"
   ]
  },
  {
   "cell_type": "code",
   "execution_count": null,
   "metadata": {},
   "outputs": [
    {
     "name": "stdout",
     "output_type": "stream",
     "text": [
      "Already exist\n"
     ]
    }
   ],
   "source": [
    "\n",
    "\n",
    "try:\n",
    "    os.mkdir(\"firstFifty\")\n",
    "    os.mkdir(\"secondFifty\")\n",
    "except OSError:\n",
    "    print(\"Already exist\")\n",
    "for file_path in wavFiles:\n",
    "    sound = am.from_file(file_path)\n",
    "    file_path = os.path.split[-1] # /home/extacy/Desktop/GraduationProject/wavFiles/car_2.wav => car_2.wav\n",
    "    firstFifty = os.path.join(\"firstFifty\",file_path)\n",
    "    secondFifty = os.path.join(\"secondFifty\",file_path)\n",
    "    if (len(sound)>=_15min):\n",
    "        sound[:len(sound)//2].export(firstFifty,format=\"wav\")\n",
    "        sound[len(sound)//2:].export(secondFifty,format=\"wav\")"
   ]
  },
  {
   "cell_type": "code",
   "execution_count": null,
   "metadata": {},
   "outputs": [],
   "source": []
  }
 ],
 "metadata": {
  "kernelspec": {
   "display_name": "Python 3.10.7 64-bit",
   "language": "python",
   "name": "python3"
  },
  "language_info": {
   "codemirror_mode": {
    "name": "ipython",
    "version": 3
   },
   "file_extension": ".py",
   "mimetype": "text/x-python",
   "name": "python",
   "nbconvert_exporter": "python",
   "pygments_lexer": "ipython3",
   "version": "3.10.7"
  },
  "orig_nbformat": 4,
  "vscode": {
   "interpreter": {
    "hash": "369f2c481f4da34e4445cda3fffd2e751bd1c4d706f27375911949ba6bb62e1c"
   }
  }
 },
 "nbformat": 4,
 "nbformat_minor": 2
}
